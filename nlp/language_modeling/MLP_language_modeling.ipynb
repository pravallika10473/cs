{
  "nbformat": 4,
  "nbformat_minor": 0,
  "metadata": {
    "colab": {
      "provenance": []
    },
    "kernelspec": {
      "name": "python3",
      "display_name": "Python 3"
    },
    "language_info": {
      "name": "python"
    }
  },
  "cells": [
    {
      "cell_type": "code",
      "execution_count": null,
      "metadata": {
        "id": "PJ5897SogEdz"
      },
      "outputs": [],
      "source": [
        "import torch\n",
        "import torch.nn.functional as F\n",
        "import matplotlib.pyplot as plt\n",
        "%matplotlib inline"
      ]
    },
    {
      "cell_type": "code",
      "source": [
        "names=[name.strip() for name in open('names.txt', 'r')]\n"
      ],
      "metadata": {
        "id": "0OzjT3JZgOqA"
      },
      "execution_count": null,
      "outputs": []
    },
    {
      "cell_type": "code",
      "source": [
        "names[0:3]"
      ],
      "metadata": {
        "colab": {
          "base_uri": "https://localhost:8080/"
        },
        "id": "ATXCx067gjS3",
        "outputId": "677a4b3d-cb12-4c8c-bebe-fb4b98abb18a"
      },
      "execution_count": null,
      "outputs": [
        {
          "output_type": "execute_result",
          "data": {
            "text/plain": [
              "['emma', 'olivia', 'ava']"
            ]
          },
          "metadata": {},
          "execution_count": 31
        }
      ]
    },
    {
      "cell_type": "code",
      "source": [
        "len(names)"
      ],
      "metadata": {
        "colab": {
          "base_uri": "https://localhost:8080/"
        },
        "id": "8o7fWUlgHZYL",
        "outputId": "86cf52f7-4ffb-4ac3-db5f-126bf800ca74"
      },
      "execution_count": null,
      "outputs": [
        {
          "output_type": "execute_result",
          "data": {
            "text/plain": [
              "32033"
            ]
          },
          "metadata": {},
          "execution_count": 32
        }
      ]
    },
    {
      "cell_type": "code",
      "source": [
        "# Building vocabulary and lookup tables\n",
        "vocab=sorted(list(set(\"\".join(names))))\n",
        "stoi={char: i+1 for i, char in enumerate(vocab)}\n",
        "stoi[\".\"]=0\n",
        "itos={value: key for key,value in stoi.items()}\n",
        "print(itos)"
      ],
      "metadata": {
        "id": "Z7f3IundiGU7",
        "colab": {
          "base_uri": "https://localhost:8080/"
        },
        "outputId": "302d6390-4815-4abc-ffd7-6edce381daf2"
      },
      "execution_count": null,
      "outputs": [
        {
          "output_type": "stream",
          "name": "stdout",
          "text": [
            "{1: 'a', 2: 'b', 3: 'c', 4: 'd', 5: 'e', 6: 'f', 7: 'g', 8: 'h', 9: 'i', 10: 'j', 11: 'k', 12: 'l', 13: 'm', 14: 'n', 15: 'o', 16: 'p', 17: 'q', 18: 'r', 19: 's', 20: 't', 21: 'u', 22: 'v', 23: 'w', 24: 'x', 25: 'y', 26: 'z', 0: '.'}\n"
          ]
        }
      ]
    },
    {
      "cell_type": "code",
      "source": [
        "#hyper_parameters\n",
        "emb_dimension=18\n",
        "h_size=300\n",
        "n_epoches=30000\n",
        "mini_batch_size=30\n",
        "i_lr=0.8\n",
        "block_size = 4 # context length: how many characters do we take to predict the next one?"
      ],
      "metadata": {
        "id": "CNAf85ISsdwz"
      },
      "execution_count": null,
      "outputs": []
    },
    {
      "cell_type": "code",
      "source": [
        "# build the dataset\n",
        "def build_dataset(names):\n",
        "  X, Y = [], []\n",
        "  for w in names:\n",
        "\n",
        "    #print(w)\n",
        "    context = [0] * block_size\n",
        "    for ch in w + '.':\n",
        "      ix = stoi[ch]\n",
        "      X.append(context)\n",
        "      Y.append(ix)\n",
        "      #print(''.join(itos[i] for i in context), '--->', itos[ix])\n",
        "      context = context[1:] + [ix] # crop and append\n",
        "\n",
        "  X = torch.tensor(X)\n",
        "  Y = torch.tensor(Y)\n",
        "  print(X.shape, Y.shape)\n",
        "  return X, Y\n",
        "\n",
        "import random\n",
        "random.seed(42)\n",
        "random.shuffle(names)\n",
        "n1 = int(0.8*len(names))\n",
        "n2 = int(0.9*len(names))\n",
        "\n",
        "Xtr, Ytr = build_dataset(names[:n1])\n",
        "Xdev, Ydev = build_dataset(names[n1:n2])\n",
        "Xte, Yte = build_dataset(names[n2:])"
      ],
      "metadata": {
        "colab": {
          "base_uri": "https://localhost:8080/"
        },
        "id": "02S3j30ZHgbK",
        "outputId": "b4c36b72-a8ec-4352-aea9-8a8f9688f3af"
      },
      "execution_count": null,
      "outputs": [
        {
          "output_type": "stream",
          "name": "stdout",
          "text": [
            "torch.Size([182625, 4]) torch.Size([182625])\n",
            "torch.Size([22655, 4]) torch.Size([22655])\n",
            "torch.Size([22866, 4]) torch.Size([22866])\n"
          ]
        }
      ]
    },
    {
      "cell_type": "code",
      "source": [
        "# initialization\n",
        "vocab_size=len(vocab)+1\n",
        "i_size= block_size* emb_dimension\n",
        "g=torch.Generator().manual_seed(42)\n",
        "C= torch.randn((vocab_size,emb_dimension),generator=g)\n",
        "W1= torch.randn((i_size,h_size),generator=g) #/ ((5/3)*(i_size)**0.5)  # Kaiming init we want our weights and biases are such a way that the activations inputs are close to zero i.e less extreme more near mean, i.e gaussian, so inorder to do that we multiply weights and biases such that mean and standard deviation stays gaussian\n",
        "b1=torch.randn(h_size, generator=g) #/ ((5/3)*(h_size)**0.5)\n",
        "W2=torch.randn((h_size,vocab_size),generator=g) * 0.01\n",
        "b2=torch.zeros(vocab_size) # We don't want to initialize randomly , which causes high initial loss, but we need biase for later, so we initialize them with zeroes\n",
        "bngain= torch.ones(1, h_size)\n",
        "bnbias=torch.zeros(1,h_size)\n",
        "parameters=[C,W1,b1,W2,b2, bngain, bnbias]"
      ],
      "metadata": {
        "id": "4wV3fnvZlhGT"
      },
      "execution_count": null,
      "outputs": []
    },
    {
      "cell_type": "code",
      "source": [
        "sum(p.nelement() for p in parameters) # number of parameters in total"
      ],
      "metadata": {
        "colab": {
          "base_uri": "https://localhost:8080/"
        },
        "id": "t4OOneAZwN2q",
        "outputId": "315ec5a0-25c7-41a1-a36e-a12c4460f5a9"
      },
      "execution_count": null,
      "outputs": [
        {
          "output_type": "execute_result",
          "data": {
            "text/plain": [
              "31113"
            ]
          },
          "metadata": {},
          "execution_count": 37
        }
      ]
    },
    {
      "cell_type": "code",
      "source": [
        "for p in parameters:\n",
        "  p.requires_grad=True"
      ],
      "metadata": {
        "id": "VXabjETMw-Cd"
      },
      "execution_count": null,
      "outputs": []
    },
    {
      "cell_type": "code",
      "source": [
        "# ideal initial loss\n",
        "-torch.tensor(1/27).log()"
      ],
      "metadata": {
        "colab": {
          "base_uri": "https://localhost:8080/"
        },
        "id": "oxrC20HOSQ2z",
        "outputId": "8faa1a7c-4c97-4b63-f783-8bde40f59bd1"
      },
      "execution_count": null,
      "outputs": [
        {
          "output_type": "execute_result",
          "data": {
            "text/plain": [
              "tensor(3.2958)"
            ]
          },
          "metadata": {},
          "execution_count": 39
        }
      ]
    },
    {
      "cell_type": "code",
      "source": [
        "# Using above tuned hyperparameters in training:\n",
        "# inorder to increase number of epoches to compute we use mini batches of data\n",
        "epoch=[]\n",
        "loss=[]\n",
        "for epoch in range(n_epoches):\n",
        "  ix=torch.randint(0,Xtr.shape[0], (mini_batch_size,))\n",
        "  # forward pass\n",
        "  emb=C[Xtr[ix]]\n",
        "  hpreact=emb.view(-1,i_size) @ W1 #+b1\n",
        "  hguass= bngain * ((hpreact-hpreact.mean(0, keepdim=True))/hpreact.std(0, keepdim=True)) + bnbias\n",
        "  h=torch.tanh(hguass)\n",
        "  logits=h @ W2 + b2\n",
        "  loss=F.cross_entropy(logits, Ytr[ix])\n",
        "  # backward pass\n",
        "  for p in parameters:\n",
        "    p.grad=None\n",
        "  loss.backward()\n",
        "  # update param\n",
        "  # lr decay, as we are reaching the minima we need to decrease the lr so that it converges instead of overshooting\n",
        "  lr = i_lr*0.1 if epoch > 0.8*n_epoches else i_lr\n",
        "  for p in parameters:\n",
        "    p.data+=-lr*p.grad\n",
        "  if epoch%1000==0:\n",
        "    print(f\"{epoch}/{n_epoches}\",loss.item())\n"
      ],
      "metadata": {
        "colab": {
          "base_uri": "https://localhost:8080/"
        },
        "id": "T7mJeZPPg635",
        "outputId": "a034f6bb-0fe2-476e-fa35-9c5e3dfc1d38"
      },
      "execution_count": null,
      "outputs": [
        {
          "output_type": "stream",
          "name": "stdout",
          "text": [
            "0/30000 3.2728915214538574\n",
            "1000/30000 2.06657338142395\n",
            "2000/30000 2.7562363147735596\n",
            "3000/30000 2.583792209625244\n",
            "4000/30000 2.4998154640197754\n",
            "5000/30000 2.3923003673553467\n",
            "6000/30000 2.192539930343628\n",
            "7000/30000 2.677978515625\n",
            "8000/30000 2.3956992626190186\n",
            "9000/30000 2.3617234230041504\n",
            "10000/30000 2.4802589416503906\n",
            "11000/30000 2.4071950912475586\n",
            "12000/30000 2.3346052169799805\n",
            "13000/30000 2.1232149600982666\n",
            "14000/30000 2.288477897644043\n",
            "15000/30000 2.358973741531372\n",
            "16000/30000 2.3430418968200684\n",
            "17000/30000 2.3194541931152344\n",
            "18000/30000 2.2007880210876465\n",
            "19000/30000 2.0529513359069824\n",
            "20000/30000 2.5389404296875\n",
            "21000/30000 2.415105104446411\n",
            "22000/30000 2.2285468578338623\n",
            "23000/30000 2.391490936279297\n",
            "24000/30000 2.376664876937866\n",
            "25000/30000 2.3673317432403564\n",
            "26000/30000 1.9718173742294312\n",
            "27000/30000 2.1686654090881348\n",
            "28000/30000 2.086977243423462\n",
            "29000/30000 2.0243043899536133\n"
          ]
        }
      ]
    },
    {
      "cell_type": "code",
      "source": [
        "# h=tanh(h_hidden), if h=+1 or -1 can cause some problems, h.grad would be 0 for that neuron , which means when we bp this grad would zero out gradients of the chain , so weights and biases that depends on that neuron won't get updated, wasted potential\n",
        "# dead neuron , so we dont want high h_hidden\n",
        "h"
      ],
      "metadata": {
        "colab": {
          "base_uri": "https://localhost:8080/"
        },
        "id": "Q9u319s0luhM",
        "outputId": "49587612-31cb-469d-ee2b-05e2cccced27"
      },
      "execution_count": null,
      "outputs": [
        {
          "output_type": "execute_result",
          "data": {
            "text/plain": [
              "tensor([[-0.0159, -0.0044, -0.0123,  ...,  0.0044,  0.0034, -0.0049],\n",
              "        [-0.0816, -0.0043,  0.0325,  ..., -0.0363, -0.0015,  0.0168],\n",
              "        [-0.0159, -0.0044, -0.0123,  ...,  0.0044,  0.0034, -0.0049],\n",
              "        ...,\n",
              "        [ 0.0381, -0.0054,  0.2491,  ..., -0.5412,  0.0095,  0.0062],\n",
              "        [-0.0482, -0.0040,  0.1896,  ..., -0.1588,  0.0063, -0.0057],\n",
              "        [ 0.0241, -0.0046, -0.0218,  ..., -0.0851,  0.0058,  0.0145]],\n",
              "       grad_fn=<TanhBackward0>)"
            ]
          },
          "metadata": {},
          "execution_count": 41
        }
      ]
    },
    {
      "cell_type": "code",
      "source": [
        "h.shape"
      ],
      "metadata": {
        "colab": {
          "base_uri": "https://localhost:8080/"
        },
        "id": "QB3lb1IKonmZ",
        "outputId": "8c9e1f21-677f-4b77-aa25-bc50ea9f7092"
      },
      "execution_count": null,
      "outputs": [
        {
          "output_type": "execute_result",
          "data": {
            "text/plain": [
              "torch.Size([30, 300])"
            ]
          },
          "metadata": {},
          "execution_count": 42
        }
      ]
    },
    {
      "cell_type": "code",
      "source": [
        "plt.hist(hpreact.view(-1).tolist(), 50);"
      ],
      "metadata": {
        "colab": {
          "base_uri": "https://localhost:8080/",
          "height": 430
        },
        "id": "2Cs2peGsd3hD",
        "outputId": "9faeede5-4c43-4ad6-9e10-6e2194c4838b"
      },
      "execution_count": null,
      "outputs": [
        {
          "output_type": "display_data",
          "data": {
            "text/plain": [
              "<Figure size 640x480 with 1 Axes>"
            ],
            "image/png": "[encoded data removed]"
          },
          "metadata": {}
        }
      ]
    },
    {
      "cell_type": "code",
      "source": [
        "h.mean().item()"
      ],
      "metadata": {
        "colab": {
          "base_uri": "https://localhost:8080/"
        },
        "id": "oCaizblIel_C",
        "outputId": "f85c9967-1739-4826-ee23-e3f6f46cd9ef"
      },
      "execution_count": null,
      "outputs": [
        {
          "output_type": "execute_result",
          "data": {
            "text/plain": [
              "-0.0011434369953349233"
            ]
          },
          "metadata": {},
          "execution_count": 44
        }
      ]
    },
    {
      "cell_type": "code",
      "source": [
        "h.std().item()"
      ],
      "metadata": {
        "colab": {
          "base_uri": "https://localhost:8080/"
        },
        "id": "AcJe0vq8ep3F",
        "outputId": "f2ec095c-5239-4108-d296-89c709b50222"
      },
      "execution_count": null,
      "outputs": [
        {
          "output_type": "execute_result",
          "data": {
            "text/plain": [
              "0.19372527301311493"
            ]
          },
          "metadata": {},
          "execution_count": 45
        }
      ]
    },
    {
      "cell_type": "code",
      "source": [
        "plt.figure(figsize=(20,10))\n",
        "plt.imshow(h.abs()>0.99, cmap=\"gray\", interpolation=\"nearest\")\n",
        "# lot of white space , if somehow initial weights are initialised such a way, for every example a particular neuron activation is greater than 0.99, then gradients of weights and biases that would alter those values would be 0, so that neuron would never learn, which means its a dead neuron, , so anyhow we are decreasing the chance of network to learn when activations are very high, so we want to avoid that."
      ],
      "metadata": {
        "colab": {
          "base_uri": "https://localhost:8080/",
          "height": 213
        },
        "id": "zTMSJJqyOW_C",
        "outputId": "0280bc8e-ea6b-4999-c112-593e6510fffb"
      },
      "execution_count": null,
      "outputs": [
        {
          "output_type": "execute_result",
          "data": {
            "text/plain": [
              "<matplotlib.image.AxesImage at 0x7aaa237b7a00>"
            ]
          },
          "metadata": {},
          "execution_count": 46
        },
        {
          "output_type": "display_data",
          "data": {
            "text/plain": [
              "<Figure size 2000x1000 with 1 Axes>"
            ],
            "image/png": "[encoded data removed]"
          },
          "metadata": {}
        }
      ]
    },
    {
      "cell_type": "code",
      "source": [
        "with torch.no_grad():\n",
        "  emb=C[Xtr]\n",
        "  hpreact=emb.view(-1,i_size) @ W1 +b1\n",
        "  bnmean= hpreact.mean(0, keepdim=True)\n",
        "  bnstd=hpreact.std(0,keepdim=True)\n",
        "\n"
      ],
      "metadata": {
        "id": "yheCMILwlg0J"
      },
      "execution_count": null,
      "outputs": []
    },
    {
      "cell_type": "code",
      "source": [
        "@torch.no_grad()\n",
        "def split_loss(split):\n",
        "    x, y = {\n",
        "        'train': (Xtr, Ytr),\n",
        "        'dev': (Xdev, Ydev),\n",
        "        'test': (Xte, Yte),\n",
        "    }[split]\n",
        "\n",
        "    emb = C[x]  # Assuming C is a tensor or some embedding matrix\n",
        "    hpreact=emb.view(-1,i_size) @ W1 +b1\n",
        "    hguass= bngain * ((hpreact-bnmean)/bnstd) + bnbias\n",
        "    h=torch.tanh(hguass)\n",
        "    logits = h @ W2 + b2\n",
        "    loss = F.cross_entropy(logits, y)  # Use the correct target tensor y\n",
        "    return loss.item()\n",
        "\n",
        "train_loss = split_loss('train')\n",
        "dev_loss = split_loss('dev')\n",
        "test_loss = split_loss('test')"
      ],
      "metadata": {
        "id": "Ij7-xhBV1Hl3"
      },
      "execution_count": null,
      "outputs": []
    },
    {
      "cell_type": "code",
      "source": [
        "# loss on whole train data\n",
        "train_loss"
      ],
      "metadata": {
        "colab": {
          "base_uri": "https://localhost:8080/"
        },
        "id": "4sz6SOoezw8R",
        "outputId": "9f83d62b-da95-4bac-c491-f1df1afe769b"
      },
      "execution_count": null,
      "outputs": [
        {
          "output_type": "execute_result",
          "data": {
            "text/plain": [
              "2.2005653381347656"
            ]
          },
          "metadata": {},
          "execution_count": 49
        }
      ]
    },
    {
      "cell_type": "code",
      "source": [
        "# loss on whole dev data\n",
        "dev_loss"
      ],
      "metadata": {
        "id": "D-xQO9FvqM9g",
        "colab": {
          "base_uri": "https://localhost:8080/"
        },
        "outputId": "36a902b8-47de-43e9-bc0c-7091015cdb51"
      },
      "execution_count": null,
      "outputs": [
        {
          "output_type": "execute_result",
          "data": {
            "text/plain": [
              "2.2061233520507812"
            ]
          },
          "metadata": {},
          "execution_count": 50
        }
      ]
    },
    {
      "cell_type": "code",
      "source": [
        "# testing loss on test data\n",
        "# loss on whole test data\n",
        "test_loss"
      ],
      "metadata": {
        "colab": {
          "base_uri": "https://localhost:8080/"
        },
        "id": "KNoN7a3kz4vr",
        "outputId": "c8d6ad2b-a47f-4ee4-e9ea-779c19a788fe"
      },
      "execution_count": null,
      "outputs": [
        {
          "output_type": "execute_result",
          "data": {
            "text/plain": [
              "2.208721399307251"
            ]
          },
          "metadata": {},
          "execution_count": 51
        }
      ]
    },
    {
      "cell_type": "code",
      "source": [
        "# # visualize dimensions 0 and 1 of the embedding matrix C for all characters\n",
        "# plt.figure(figsize=(8,8))\n",
        "# plt.scatter(C[:,0].data, C[:,1].data, s=200)\n",
        "# for i in range(C.shape[0]):\n",
        "#     plt.text(C[i,0].item(), C[i,1].item(), itos[i], ha=\"center\", va=\"center\", color='white')\n",
        "# plt.grid('minor')"
      ],
      "metadata": {
        "id": "hInbod0-Tbus"
      },
      "execution_count": null,
      "outputs": []
    },
    {
      "cell_type": "code",
      "source": [
        "# generate new names\n",
        "for i in range(10):\n",
        "  context=[0]*block_size\n",
        "  context=[0] * block_size\n",
        "  name=[]\n",
        "  while True:\n",
        "    emb=C[context]\n",
        "    hpreact=emb.view(-1,i_size) @ W1 +b1\n",
        "    hguass=bngain * ((hpreact-bnmean)/bnstd) + bnbias\n",
        "    h=torch.tanh(hguass)\n",
        "    logits=h @ W2 + b2\n",
        "    probs = F.softmax(logits, dim=1)\n",
        "    ix= torch.multinomial(probs,num_samples=1,replacement=True,generator=g).item()\n",
        "    context = context[1:] + [ix]\n",
        "    name.append(ix)\n",
        "    if ix == 0:\n",
        "      break\n",
        "\n",
        "  print(''.join(itos[i] for i in name))\n"
      ],
      "metadata": {
        "colab": {
          "base_uri": "https://localhost:8080/"
        },
        "id": "XrMCsxSNTcTd",
        "outputId": "f6637fbc-6bb8-4082-c2c3-b57dedbb65e3"
      },
      "execution_count": null,
      "outputs": [
        {
          "output_type": "stream",
          "name": "stdout",
          "text": [
            "suky.\n",
            "dmari.\n",
            "jorriette.\n",
            "koprrysh.\n",
            "ezmie.\n",
            "kraylen.\n",
            "aithy.\n",
            "blerina.\n",
            "rulous.\n",
            "myston.\n"
          ]
        }
      ]
    },
    {
      "cell_type": "code",
      "source": [],
      "metadata": {
        "id": "6oxHYX0tbs1R"
      },
      "execution_count": null,
      "outputs": []
    }
  ]
}