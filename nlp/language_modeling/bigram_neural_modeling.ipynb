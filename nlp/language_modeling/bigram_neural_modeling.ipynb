{
  "nbformat": 4,
  "nbformat_minor": 0,
  "metadata": {
    "colab": {
      "provenance": []
    },
    "kernelspec": {
      "name": "python3",
      "display_name": "Python 3"
    },
    "language_info": {
      "name": "python"
    }
  },
  "cells": [
    {
      "cell_type": "code",
      "execution_count": 37,
      "metadata": {
        "id": "TvAS3MWFYnYr"
      },
      "outputs": [],
      "source": [
        "names= [name.strip() for name in open(\"names.txt\")]"
      ]
    },
    {
      "cell_type": "code",
      "source": [
        "names[0:3]"
      ],
      "metadata": {
        "colab": {
          "base_uri": "https://localhost:8080/"
        },
        "id": "QVWdDcd_ZSnN",
        "outputId": "5920f16d-3894-4fd7-fed7-f83e5df528ad"
      },
      "execution_count": 38,
      "outputs": [
        {
          "output_type": "execute_result",
          "data": {
            "text/plain": [
              "['emma', 'olivia', 'ava']"
            ]
          },
          "metadata": {},
          "execution_count": 38
        }
      ]
    },
    {
      "cell_type": "code",
      "source": [
        "chars=sorted(list(set(\"\".join(names))))\n",
        "stoi= {chars[i]: i+1 for i in range(len(chars)) }\n",
        "stoi['.']=0"
      ],
      "metadata": {
        "id": "uKGaR-J7b2Ye"
      },
      "execution_count": 39,
      "outputs": []
    },
    {
      "cell_type": "code",
      "source": [
        "import torch\n",
        "xs=[] # input\n",
        "ys=[] # expected output\n",
        "# prepare the dataset\n",
        "#Network takes first letter in bigram as input and would predict the second letter as output\n",
        "for name in names:\n",
        "  char=[\".\"]+list(name)+[\".\"]\n",
        "  for ch1, ch2 in zip(char, char[1:]):\n",
        "    ix1=stoi[ch1]\n",
        "    ix2=stoi[ch2]\n",
        "    xs.append(ix1)\n",
        "    ys.append(ix2)\n",
        "xs=torch.tensor(xs)\n",
        "ys=torch.tensor(ys)"
      ],
      "metadata": {
        "id": "f38j6QFDZVSA"
      },
      "execution_count": 40,
      "outputs": []
    },
    {
      "cell_type": "code",
      "source": [
        "import torch.nn.functional as F\n",
        "num_samples=len(xs)\n",
        "g=torch.Generator().manual_seed(2147483647)\n",
        "w= torch.randn((27,27), generator=g, requires_grad=True)\n",
        "xenc=F.one_hot(xs,num_classes=27).float()"
      ],
      "metadata": {
        "id": "0zgHdZFf2Bxz"
      },
      "execution_count": 41,
      "outputs": []
    },
    {
      "cell_type": "code",
      "source": [
        "for i in range(200):\n",
        "\n",
        "  #Forward pass\n",
        "  logits=xenc @ w\n",
        "  ex=torch.exp(logits)\n",
        "  softmax= ex/ex.sum(dim=1, keepdim=True)\n",
        "  y_pred=ys[0]\n",
        "  loss = -torch.log(softmax[range(num_samples), ys]).mean()\n",
        "  # backward pass\n",
        "  w.grad=None\n",
        "  loss.backward()\n",
        "  # Gradient descent\n",
        "  lr=50\n",
        "  w.data+=-lr*w.grad\n"
      ],
      "metadata": {
        "id": "5bR0aH0ZAsjS"
      },
      "execution_count": 42,
      "outputs": []
    },
    {
      "cell_type": "code",
      "source": [
        "print(loss.item())"
      ],
      "metadata": {
        "colab": {
          "base_uri": "https://localhost:8080/"
        },
        "id": "sz8_KYBrA5-3",
        "outputId": "69bc74f5-f92c-44dc-8c4c-a834f55f4172"
      },
      "execution_count": 43,
      "outputs": [
        {
          "output_type": "stream",
          "name": "stdout",
          "text": [
            "2.462393045425415\n"
          ]
        }
      ]
    },
    {
      "cell_type": "code",
      "source": [],
      "metadata": {
        "id": "KLfur09qOeUC"
      },
      "execution_count": 42,
      "outputs": []
    },
    {
      "cell_type": "code",
      "source": [],
      "metadata": {
        "id": "Heu8N0BIOguf"
      },
      "execution_count": 42,
      "outputs": []
    }
  ]
}